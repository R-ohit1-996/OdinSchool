{
  "nbformat": 4,
  "nbformat_minor": 0,
  "metadata": {
    "colab": {
      "name": "Week6_project_diabetes.ipynb",
      "provenance": [],
      "collapsed_sections": [
        "KEP_N4tVx8-b",
        "2g_37_LF7cUh",
        "nviF9VozzR2q",
        "qzRPYOl59-qc",
        "0sf9sf82rAoF",
        "Um7LWih0wKv7",
        "z9RlZVzHNBGe",
        "4-2hEPI3kUzB",
        "GvpDkyHZWR85",
        "FzJsE0DubjRF",
        "nmxQTFTrdBFL",
        "0zwuYUYigMtj",
        "-Iv-YqJ2rVai",
        "rYc1vJIdr0qX",
        "2HVa5TFV93Zj",
        "dNizAxIqD__V"
      ]
    },
    "kernelspec": {
      "name": "python3",
      "display_name": "Python 3"
    },
    "language_info": {
      "name": "python"
    }
  },
  "cells": [
    {
      "cell_type": "markdown",
      "source": [
        "# ***Introduction:***\n",
        "\n",
        "---\n",
        "\n",
        "### This dataset is originally from the National Institute of Diabetes and Digestive and Kidney Diseases. The objective of the dataset is to diagnostically predict whether a patient has diabetes, based on certain diagnostic measurements included in the dataset.\n",
        "\n",
        "### This data set has 768 rows and 9 columns, out of which 8 are input columns and one is output column.\n",
        "\n",
        "\n",
        "\n"
      ],
      "metadata": {
        "id": "HTcjnBStwD_n"
      }
    },
    {
      "cell_type": "markdown",
      "source": [
        "### ***Attribute information:***\n",
        "\n",
        "\n",
        "---\n",
        "\n",
        "###1. Pregnancies: Number of times pregnant\n",
        "\n",
        "###2. Glucose: Plasma glucose concentration 2 hours in an oral glucose tolerance test\n",
        "\n",
        "###3. Blood Pressure: Diastolic blood pressure (mm Hg)\n",
        "\n",
        "###4.  Skin Thickness: Triceps skin fold thickness (mm\n",
        "\n",
        "###5. Insulin: 2-Hour serum insulin (mu U/ml)\n",
        "\n",
        "###6. BMI: Body mass index (weight in kg/(height in m)^2) \n",
        "\n",
        "###7. Diabetes Pedigree Function: Diabetes pedigree function\n",
        "\n",
        "###8. Age: Age (years)\n",
        "\n",
        "###9. Outcome: Class variable (0 or 1) 0 mean non-diabetic and 1 means diabetic\n",
        "\n"
      ],
      "metadata": {
        "id": "KEP_N4tVx8-b"
      }
    },
    {
      "cell_type": "markdown",
      "source": [
        "# **Importing important libraries:**"
      ],
      "metadata": {
        "id": "eCelYRZO2xHf"
      }
    },
    {
      "cell_type": "code",
      "execution_count": null,
      "metadata": {
        "id": "6y4FgwhyOz5r"
      },
      "outputs": [],
      "source": [
        "import pandas as pd\n",
        "import numpy as np\n",
        "import seaborn as sns\n",
        "import matplotlib.pyplot as plt"
      ]
    },
    {
      "cell_type": "markdown",
      "source": [
        "# **Importing & reading file :**"
      ],
      "metadata": {
        "id": "KMmvucjn3K1-"
      }
    },
    {
      "cell_type": "code",
      "source": [
        "from google.colab import files\n",
        "uploaded = files.upload()"
      ],
      "metadata": {
        "colab": {
          "resources": {
            "http://localhost:8080/nbextensions/google.colab/files.js": {
              "data": "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",
              "ok": true,
              "headers": [
                [
                  "content-type",
                  "application/javascript"
                ]
              ],
              "status": 200,
              "status_text": ""
            }
          },
          "base_uri": "https://localhost:8080/",
          "height": 73
        },
        "id": "b-AI9GCvPShk",
        "outputId": "d17b2dc4-9eaa-4bd6-8ac0-b856a24f8995"
      },
      "execution_count": null,
      "outputs": [
        {
          "output_type": "display_data",
          "data": {
            "text/plain": [
              "<IPython.core.display.HTML object>"
            ],
            "text/html": [
              "\n",
              "     <input type=\"file\" id=\"files-c1e216b6-c541-40d9-98f6-fd605246a9e6\" name=\"files[]\" multiple disabled\n",
              "        style=\"border:none\" />\n",
              "     <output id=\"result-c1e216b6-c541-40d9-98f6-fd605246a9e6\">\n",
              "      Upload widget is only available when the cell has been executed in the\n",
              "      current browser session. Please rerun this cell to enable.\n",
              "      </output>\n",
              "      <script src=\"/nbextensions/google.colab/files.js\"></script> "
            ]
          },
          "metadata": {}
        },
        {
          "output_type": "stream",
          "name": "stdout",
          "text": [
            "Saving mandatory_diabetes (1).csv to mandatory_diabetes (1) (1).csv\n"
          ]
        }
      ]
    },
    {
      "cell_type": "code",
      "source": [
        "db = pd.read_csv(\"mandatory_diabetes (1).csv\")"
      ],
      "metadata": {
        "id": "PMUejFpsPZXZ"
      },
      "execution_count": null,
      "outputs": []
    },
    {
      "cell_type": "markdown",
      "source": [
        "## **Data cleaning:**"
      ],
      "metadata": {
        "id": "3tjtN38027su"
      }
    },
    {
      "cell_type": "code",
      "source": [
        "# Finding information about the data\n",
        "db.info()"
      ],
      "metadata": {
        "colab": {
          "base_uri": "https://localhost:8080/"
        },
        "id": "Dwf63bMiPgqG",
        "outputId": "73f9e713-5186-474c-c949-c709a458fa79"
      },
      "execution_count": null,
      "outputs": [
        {
          "output_type": "stream",
          "name": "stdout",
          "text": [
            "<class 'pandas.core.frame.DataFrame'>\n",
            "RangeIndex: 768 entries, 0 to 767\n",
            "Data columns (total 9 columns):\n",
            " #   Column                    Non-Null Count  Dtype  \n",
            "---  ------                    --------------  -----  \n",
            " 0   Pregnancies               768 non-null    int64  \n",
            " 1   Glucose                   768 non-null    int64  \n",
            " 2   BloodPressure             768 non-null    int64  \n",
            " 3   SkinThickness             768 non-null    int64  \n",
            " 4   Insulin                   768 non-null    int64  \n",
            " 5   BMI                       768 non-null    float64\n",
            " 6   DiabetesPedigreeFunction  768 non-null    float64\n",
            " 7   Age                       768 non-null    int64  \n",
            " 8   Outcome                   768 non-null    int64  \n",
            "dtypes: float64(2), int64(7)\n",
            "memory usage: 54.1 KB\n"
          ]
        }
      ]
    },
    {
      "cell_type": "markdown",
      "source": [
        "### So here we can see there is no Null enteries in the data. Here also python sees Outcome as integer type data but statistically it is categorical data."
      ],
      "metadata": {
        "id": "Y5ID3Mbv3mEh"
      }
    },
    {
      "cell_type": "code",
      "source": [
        "db.describe() #lets see statistical analysis of the data."
      ],
      "metadata": {
        "colab": {
          "base_uri": "https://localhost:8080/",
          "height": 364
        },
        "id": "97ca5-MCRfiv",
        "outputId": "4022ad02-a546-4386-dd89-9e5017ade304"
      },
      "execution_count": null,
      "outputs": [
        {
          "output_type": "execute_result",
          "data": {
            "text/plain": [
              "       Pregnancies     Glucose  BloodPressure  SkinThickness     Insulin  \\\n",
              "count   768.000000  768.000000     768.000000     768.000000  768.000000   \n",
              "mean      3.845052  120.894531      69.105469      20.536458   79.799479   \n",
              "std       3.369578   31.972618      19.355807      15.952218  115.244002   \n",
              "min       0.000000    0.000000       0.000000       0.000000    0.000000   \n",
              "25%       1.000000   99.000000      62.000000       0.000000    0.000000   \n",
              "50%       3.000000  117.000000      72.000000      23.000000   30.500000   \n",
              "75%       6.000000  140.250000      80.000000      32.000000  127.250000   \n",
              "max      17.000000  199.000000     122.000000      99.000000  846.000000   \n",
              "\n",
              "              BMI  DiabetesPedigreeFunction         Age     Outcome  \n",
              "count  768.000000                768.000000  768.000000  768.000000  \n",
              "mean    31.992578                  0.471876   33.240885    0.348958  \n",
              "std      7.884160                  0.331329   11.760232    0.476951  \n",
              "min      0.000000                  0.078000   21.000000    0.000000  \n",
              "25%     27.300000                  0.243750   24.000000    0.000000  \n",
              "50%     32.000000                  0.372500   29.000000    0.000000  \n",
              "75%     36.600000                  0.626250   41.000000    1.000000  \n",
              "max     67.100000                  2.420000   81.000000    1.000000  "
            ],
            "text/html": [
              "\n",
              "  <div id=\"df-871585b9-bc5d-412f-aee7-8dfae824f4c5\">\n",
              "    <div class=\"colab-df-container\">\n",
              "      <div>\n",
              "<style scoped>\n",
              "    .dataframe tbody tr th:only-of-type {\n",
              "        vertical-align: middle;\n",
              "    }\n",
              "\n",
              "    .dataframe tbody tr th {\n",
              "        vertical-align: top;\n",
              "    }\n",
              "\n",
              "    .dataframe thead th {\n",
              "        text-align: right;\n",
              "    }\n",
              "</style>\n",
              "<table border=\"1\" class=\"dataframe\">\n",
              "  <thead>\n",
              "    <tr style=\"text-align: right;\">\n",
              "      <th></th>\n",
              "      <th>Pregnancies</th>\n",
              "      <th>Glucose</th>\n",
              "      <th>BloodPressure</th>\n",
              "      <th>SkinThickness</th>\n",
              "      <th>Insulin</th>\n",
              "      <th>BMI</th>\n",
              "      <th>DiabetesPedigreeFunction</th>\n",
              "      <th>Age</th>\n",
              "      <th>Outcome</th>\n",
              "    </tr>\n",
              "  </thead>\n",
              "  <tbody>\n",
              "    <tr>\n",
              "      <th>count</th>\n",
              "      <td>768.000000</td>\n",
              "      <td>768.000000</td>\n",
              "      <td>768.000000</td>\n",
              "      <td>768.000000</td>\n",
              "      <td>768.000000</td>\n",
              "      <td>768.000000</td>\n",
              "      <td>768.000000</td>\n",
              "      <td>768.000000</td>\n",
              "      <td>768.000000</td>\n",
              "    </tr>\n",
              "    <tr>\n",
              "      <th>mean</th>\n",
              "      <td>3.845052</td>\n",
              "      <td>120.894531</td>\n",
              "      <td>69.105469</td>\n",
              "      <td>20.536458</td>\n",
              "      <td>79.799479</td>\n",
              "      <td>31.992578</td>\n",
              "      <td>0.471876</td>\n",
              "      <td>33.240885</td>\n",
              "      <td>0.348958</td>\n",
              "    </tr>\n",
              "    <tr>\n",
              "      <th>std</th>\n",
              "      <td>3.369578</td>\n",
              "      <td>31.972618</td>\n",
              "      <td>19.355807</td>\n",
              "      <td>15.952218</td>\n",
              "      <td>115.244002</td>\n",
              "      <td>7.884160</td>\n",
              "      <td>0.331329</td>\n",
              "      <td>11.760232</td>\n",
              "      <td>0.476951</td>\n",
              "    </tr>\n",
              "    <tr>\n",
              "      <th>min</th>\n",
              "      <td>0.000000</td>\n",
              "      <td>0.000000</td>\n",
              "      <td>0.000000</td>\n",
              "      <td>0.000000</td>\n",
              "      <td>0.000000</td>\n",
              "      <td>0.000000</td>\n",
              "      <td>0.078000</td>\n",
              "      <td>21.000000</td>\n",
              "      <td>0.000000</td>\n",
              "    </tr>\n",
              "    <tr>\n",
              "      <th>25%</th>\n",
              "      <td>1.000000</td>\n",
              "      <td>99.000000</td>\n",
              "      <td>62.000000</td>\n",
              "      <td>0.000000</td>\n",
              "      <td>0.000000</td>\n",
              "      <td>27.300000</td>\n",
              "      <td>0.243750</td>\n",
              "      <td>24.000000</td>\n",
              "      <td>0.000000</td>\n",
              "    </tr>\n",
              "    <tr>\n",
              "      <th>50%</th>\n",
              "      <td>3.000000</td>\n",
              "      <td>117.000000</td>\n",
              "      <td>72.000000</td>\n",
              "      <td>23.000000</td>\n",
              "      <td>30.500000</td>\n",
              "      <td>32.000000</td>\n",
              "      <td>0.372500</td>\n",
              "      <td>29.000000</td>\n",
              "      <td>0.000000</td>\n",
              "    </tr>\n",
              "    <tr>\n",
              "      <th>75%</th>\n",
              "      <td>6.000000</td>\n",
              "      <td>140.250000</td>\n",
              "      <td>80.000000</td>\n",
              "      <td>32.000000</td>\n",
              "      <td>127.250000</td>\n",
              "      <td>36.600000</td>\n",
              "      <td>0.626250</td>\n",
              "      <td>41.000000</td>\n",
              "      <td>1.000000</td>\n",
              "    </tr>\n",
              "    <tr>\n",
              "      <th>max</th>\n",
              "      <td>17.000000</td>\n",
              "      <td>199.000000</td>\n",
              "      <td>122.000000</td>\n",
              "      <td>99.000000</td>\n",
              "      <td>846.000000</td>\n",
              "      <td>67.100000</td>\n",
              "      <td>2.420000</td>\n",
              "      <td>81.000000</td>\n",
              "      <td>1.000000</td>\n",
              "    </tr>\n",
              "  </tbody>\n",
              "</table>\n",
              "</div>\n",
              "      <button class=\"colab-df-convert\" onclick=\"convertToInteractive('df-871585b9-bc5d-412f-aee7-8dfae824f4c5')\"\n",
              "              title=\"Convert this dataframe to an interactive table.\"\n",
              "              style=\"display:none;\">\n",
              "        \n",
              "  <svg xmlns=\"http://www.w3.org/2000/svg\" height=\"24px\"viewBox=\"0 0 24 24\"\n",
              "       width=\"24px\">\n",
              "    <path d=\"M0 0h24v24H0V0z\" fill=\"none\"/>\n",
              "    <path d=\"M18.56 5.44l.94 2.06.94-2.06 2.06-.94-2.06-.94-.94-2.06-.94 2.06-2.06.94zm-11 1L8.5 8.5l.94-2.06 2.06-.94-2.06-.94L8.5 2.5l-.94 2.06-2.06.94zm10 10l.94 2.06.94-2.06 2.06-.94-2.06-.94-.94-2.06-.94 2.06-2.06.94z\"/><path d=\"M17.41 7.96l-1.37-1.37c-.4-.4-.92-.59-1.43-.59-.52 0-1.04.2-1.43.59L10.3 9.45l-7.72 7.72c-.78.78-.78 2.05 0 2.83L4 21.41c.39.39.9.59 1.41.59.51 0 1.02-.2 1.41-.59l7.78-7.78 2.81-2.81c.8-.78.8-2.07 0-2.86zM5.41 20L4 18.59l7.72-7.72 1.47 1.35L5.41 20z\"/>\n",
              "  </svg>\n",
              "      </button>\n",
              "      \n",
              "  <style>\n",
              "    .colab-df-container {\n",
              "      display:flex;\n",
              "      flex-wrap:wrap;\n",
              "      gap: 12px;\n",
              "    }\n",
              "\n",
              "    .colab-df-convert {\n",
              "      background-color: #E8F0FE;\n",
              "      border: none;\n",
              "      border-radius: 50%;\n",
              "      cursor: pointer;\n",
              "      display: none;\n",
              "      fill: #1967D2;\n",
              "      height: 32px;\n",
              "      padding: 0 0 0 0;\n",
              "      width: 32px;\n",
              "    }\n",
              "\n",
              "    .colab-df-convert:hover {\n",
              "      background-color: #E2EBFA;\n",
              "      box-shadow: 0px 1px 2px rgba(60, 64, 67, 0.3), 0px 1px 3px 1px rgba(60, 64, 67, 0.15);\n",
              "      fill: #174EA6;\n",
              "    }\n",
              "\n",
              "    [theme=dark] .colab-df-convert {\n",
              "      background-color: #3B4455;\n",
              "      fill: #D2E3FC;\n",
              "    }\n",
              "\n",
              "    [theme=dark] .colab-df-convert:hover {\n",
              "      background-color: #434B5C;\n",
              "      box-shadow: 0px 1px 3px 1px rgba(0, 0, 0, 0.15);\n",
              "      filter: drop-shadow(0px 1px 2px rgba(0, 0, 0, 0.3));\n",
              "      fill: #FFFFFF;\n",
              "    }\n",
              "  </style>\n",
              "\n",
              "      <script>\n",
              "        const buttonEl =\n",
              "          document.querySelector('#df-871585b9-bc5d-412f-aee7-8dfae824f4c5 button.colab-df-convert');\n",
              "        buttonEl.style.display =\n",
              "          google.colab.kernel.accessAllowed ? 'block' : 'none';\n",
              "\n",
              "        async function convertToInteractive(key) {\n",
              "          const element = document.querySelector('#df-871585b9-bc5d-412f-aee7-8dfae824f4c5');\n",
              "          const dataTable =\n",
              "            await google.colab.kernel.invokeFunction('convertToInteractive',\n",
              "                                                     [key], {});\n",
              "          if (!dataTable) return;\n",
              "\n",
              "          const docLinkHtml = 'Like what you see? Visit the ' +\n",
              "            '<a target=\"_blank\" href=https://colab.research.google.com/notebooks/data_table.ipynb>data table notebook</a>'\n",
              "            + ' to learn more about interactive tables.';\n",
              "          element.innerHTML = '';\n",
              "          dataTable['output_type'] = 'display_data';\n",
              "          await google.colab.output.renderOutput(dataTable, element);\n",
              "          const docLink = document.createElement('div');\n",
              "          docLink.innerHTML = docLinkHtml;\n",
              "          element.appendChild(docLink);\n",
              "        }\n",
              "      </script>\n",
              "    </div>\n",
              "  </div>\n",
              "  "
            ]
          },
          "metadata": {},
          "execution_count": 108
        }
      ]
    },
    {
      "cell_type": "markdown",
      "source": [
        "### For many of the columns zero is the minimum value. But value zero is not possible for Glucose, Blood pressure, skin thickness, insulin & BMI."
      ],
      "metadata": {
        "id": "Ty62IYNs4ABF"
      }
    },
    {
      "cell_type": "code",
      "source": [
        "#Lets find the number of zero entries\n",
        "(db.Glucose==0).sum(),(db.BloodPressure==0).sum(),(db.SkinThickness==0).sum(),(db.Insulin==0).sum(),(db.BMI==0).sum(),(db.Age==0).sum()"
      ],
      "metadata": {
        "colab": {
          "base_uri": "https://localhost:8080/"
        },
        "id": "hlOHFncvRorC",
        "outputId": "3a97b1e4-dd39-4232-a4e6-82a044ad4cbe"
      },
      "execution_count": null,
      "outputs": [
        {
          "output_type": "execute_result",
          "data": {
            "text/plain": [
              "(5, 35, 227, 374, 11, 0)"
            ]
          },
          "metadata": {},
          "execution_count": 109
        }
      ]
    },
    {
      "cell_type": "markdown",
      "source": [
        "### So there is high level of zero count in some variables.\n",
        "\n",
        "### It would be better to remove the zeros instead of replacing them beacause the count is high so by replacing the zeros, data will give wrong analysis."
      ],
      "metadata": {
        "id": "Pfd04ybR5LcM"
      }
    },
    {
      "cell_type": "code",
      "source": [
        "# Lets find the index of required columns and list them\n",
        "d1 = db.index[db.Glucose==0].tolist()\n",
        "d2 = db.index[db.BloodPressure==0].tolist()\n",
        "d3 = db.index[db.SkinThickness==0].tolist()\n",
        "d4 = db.index[db.BMI==0].tolist()\n",
        "d5 = db.index[db.Insulin==0].tolist()\n",
        "x = d1+d2+d3+d4+d5  # Concat the lists\n",
        "Diab = db.drop(db.index[x]) # droping the rows of specified index"
      ],
      "metadata": {
        "id": "K3YUazWQa2O8"
      },
      "execution_count": null,
      "outputs": []
    },
    {
      "cell_type": "code",
      "source": [
        "Diab.info()  # lets see the information of our new data set."
      ],
      "metadata": {
        "colab": {
          "base_uri": "https://localhost:8080/"
        },
        "id": "IS6UPfcTcfBl",
        "outputId": "80363a53-d407-4a48-a665-5a014c50cfac"
      },
      "execution_count": null,
      "outputs": [
        {
          "output_type": "stream",
          "name": "stdout",
          "text": [
            "<class 'pandas.core.frame.DataFrame'>\n",
            "Int64Index: 392 entries, 3 to 765\n",
            "Data columns (total 9 columns):\n",
            " #   Column                    Non-Null Count  Dtype  \n",
            "---  ------                    --------------  -----  \n",
            " 0   Pregnancies               392 non-null    int64  \n",
            " 1   Glucose                   392 non-null    int64  \n",
            " 2   BloodPressure             392 non-null    int64  \n",
            " 3   SkinThickness             392 non-null    int64  \n",
            " 4   Insulin                   392 non-null    int64  \n",
            " 5   BMI                       392 non-null    float64\n",
            " 6   DiabetesPedigreeFunction  392 non-null    float64\n",
            " 7   Age                       392 non-null    int64  \n",
            " 8   Outcome                   392 non-null    int64  \n",
            "dtypes: float64(2), int64(7)\n",
            "memory usage: 30.6 KB\n"
          ]
        }
      ]
    },
    {
      "cell_type": "markdown",
      "source": [
        "### So by cleaning the data we lost around 50% of out data. But the data is cleaner to analyse."
      ],
      "metadata": {
        "id": "2g_37_LF7cUh"
      }
    },
    {
      "cell_type": "markdown",
      "source": [
        "## **1. Basic Exploration of data:**"
      ],
      "metadata": {
        "id": "Ykg7etgEzDKI"
      }
    },
    {
      "cell_type": "markdown",
      "source": [
        "There are two Data types.\n",
        "\n",
        "## **1. Qualitative data/Categorical data-**\n",
        "\n",
        "This is has no magnitude. It is again of two types,\n",
        "\n",
        "### **A. Nominal -**\n",
        "\n",
        "It has no order and magnitude.\n",
        "\n",
        "For example: Gender, Race, Name and ID\n",
        "\n",
        "### **B. Ordinal-**\n",
        "\n",
        "It has order but no magnitude.\n",
        "\n",
        "We know one group is greater but not sure about magnitude\n",
        "\n",
        "\n",
        "\n",
        "## **2. Quantitative data/Numerical data-**\n",
        "\n",
        "This has order and magnitude. It is again devided in two parts,\n",
        "\n",
        "###**A. Discerete -**\n",
        "\n",
        "Intermediate values are not possible.\n",
        "\n",
        "This data is countable.\n",
        "\n",
        "For example: Population\n",
        "\n",
        "###**3. Continous-**\n",
        "\n",
        "Intermediate values are possible.\n",
        "\n",
        "This data is measurable.\n",
        "\n",
        "For example: Height, weight, Age\n",
        "\n",
        "### **1.**Pregnancies: As this variable is countable, so it is discerete type data.\n",
        "\n",
        "\n",
        "\n",
        "###**2.**Glucose,Blood Pressure, skin thickness , insulin , BMI all these variables are measured not counted.So these are all continous data.\n",
        "\n",
        "###**3.**Also AGE here should be conisdered as Discrete data because it is expressed as an integer in units of years with no decimal to indicate days and presumably, hours, minutes, and seconds. \n",
        "\n",
        "###**4.**Diabetes Pedigree Function indicates the function which scores likelihood of diabetes based on family history.As this is also measured this is also a continous data\n",
        "\n",
        "###**5.**However outcome is a Categorical data as this has no magnitude and order.\n"
      ],
      "metadata": {
        "id": "nviF9VozzR2q"
      }
    },
    {
      "cell_type": "markdown",
      "source": [
        "## **2. Central tendency for Glucose and Outcome:**"
      ],
      "metadata": {
        "id": "9Z4IoTHO79WH"
      }
    },
    {
      "cell_type": "code",
      "source": [
        "#Let's chech the skewness of the plot of Glucose column\n",
        "#So that we can understand which is the appropriate measure of central tendency for Glucose\n",
        "Diab.Glucose.skew()"
      ],
      "metadata": {
        "colab": {
          "base_uri": "https://localhost:8080/"
        },
        "id": "kzQjtrDf8RLc",
        "outputId": "90f63fb1-ec5c-4b38-f392-1fdc1c67f440"
      },
      "execution_count": null,
      "outputs": [
        {
          "output_type": "execute_result",
          "data": {
            "text/plain": [
              "0.5178499371777541"
            ]
          },
          "metadata": {},
          "execution_count": 112
        }
      ]
    },
    {
      "cell_type": "markdown",
      "source": [
        "### As the skewness is around 0.5, so we can say the Glucose data is normaly distributed. Thus Mean would be the appropriate measure of central tendency for Glucose."
      ],
      "metadata": {
        "id": "VSlutN6C9Oj9"
      }
    },
    {
      "cell_type": "code",
      "source": [
        "#Lets find the mean of Glucose column\n",
        "Diab.Glucose.mean()"
      ],
      "metadata": {
        "colab": {
          "base_uri": "https://localhost:8080/"
        },
        "id": "nL4tTf2M9LHC",
        "outputId": "ebd0dac2-400f-4a69-e4f9-aef412b862e5"
      },
      "execution_count": null,
      "outputs": [
        {
          "output_type": "execute_result",
          "data": {
            "text/plain": [
              "122.62755102040816"
            ]
          },
          "metadata": {},
          "execution_count": 113
        }
      ]
    },
    {
      "cell_type": "code",
      "source": [
        "# As Outcome is categorical thus Mode would be the appropriate measure of central tendency for outcome\n",
        "Diab.Outcome.mode() #finfing mode"
      ],
      "metadata": {
        "colab": {
          "base_uri": "https://localhost:8080/"
        },
        "id": "eX5tcn9-9pU_",
        "outputId": "ac3e8e9f-c5c1-48bb-89da-a9f9f69eb428"
      },
      "execution_count": null,
      "outputs": [
        {
          "output_type": "execute_result",
          "data": {
            "text/plain": [
              "0    0\n",
              "dtype: int64"
            ]
          },
          "metadata": {},
          "execution_count": 114
        }
      ]
    },
    {
      "cell_type": "markdown",
      "source": [
        "### So cental tendency of Outcome is 0 , that is Non-Diabetic count is higher than the diabetic."
      ],
      "metadata": {
        "id": "qzRPYOl59-qc"
      }
    },
    {
      "cell_type": "markdown",
      "source": [
        "### **3. point data summaries:**"
      ],
      "metadata": {
        "id": "l3EuaVP8_T_7"
      }
    },
    {
      "cell_type": "code",
      "source": [
        "#lets remove Outcome column  as it is categorical(No 5 point summary)\n",
        "Diab1 = Diab[[\"Pregnancies\" , \"Glucose\" , \"BloodPressure\" , 'SkinThickness' , \"Insulin\" , \"BMI\" , \"DiabetesPedigreeFunction\" ,  \"Age\"]] #Dropping unwanted columns\n",
        "Diab1.describe() \n",
        "#Statistical analysis or five point summary of different columns except Outcome."
      ],
      "metadata": {
        "colab": {
          "base_uri": "https://localhost:8080/",
          "height": 364
        },
        "id": "PbcKvaVzkkna",
        "outputId": "138f7bd2-1390-484e-e811-16b650fe1a26"
      },
      "execution_count": null,
      "outputs": [
        {
          "output_type": "execute_result",
          "data": {
            "text/plain": [
              "       Pregnancies     Glucose  BloodPressure  SkinThickness     Insulin  \\\n",
              "count   392.000000  392.000000     392.000000     392.000000  392.000000   \n",
              "mean      3.301020  122.627551      70.663265      29.145408  156.056122   \n",
              "std       3.211424   30.860781      12.496092      10.516424  118.841690   \n",
              "min       0.000000   56.000000      24.000000       7.000000   14.000000   \n",
              "25%       1.000000   99.000000      62.000000      21.000000   76.750000   \n",
              "50%       2.000000  119.000000      70.000000      29.000000  125.500000   \n",
              "75%       5.000000  143.000000      78.000000      37.000000  190.000000   \n",
              "max      17.000000  198.000000     110.000000      63.000000  846.000000   \n",
              "\n",
              "              BMI  DiabetesPedigreeFunction         Age  \n",
              "count  392.000000                392.000000  392.000000  \n",
              "mean    33.086224                  0.523046   30.864796  \n",
              "std      7.027659                  0.345488   10.200777  \n",
              "min     18.200000                  0.085000   21.000000  \n",
              "25%     28.400000                  0.269750   23.000000  \n",
              "50%     33.200000                  0.449500   27.000000  \n",
              "75%     37.100000                  0.687000   36.000000  \n",
              "max     67.100000                  2.420000   81.000000  "
            ],
            "text/html": [
              "\n",
              "  <div id=\"df-cc9f9b14-4ed3-4dd8-919f-c7438b7407dd\">\n",
              "    <div class=\"colab-df-container\">\n",
              "      <div>\n",
              "<style scoped>\n",
              "    .dataframe tbody tr th:only-of-type {\n",
              "        vertical-align: middle;\n",
              "    }\n",
              "\n",
              "    .dataframe tbody tr th {\n",
              "        vertical-align: top;\n",
              "    }\n",
              "\n",
              "    .dataframe thead th {\n",
              "        text-align: right;\n",
              "    }\n",
              "</style>\n",
              "<table border=\"1\" class=\"dataframe\">\n",
              "  <thead>\n",
              "    <tr style=\"text-align: right;\">\n",
              "      <th></th>\n",
              "      <th>Pregnancies</th>\n",
              "      <th>Glucose</th>\n",
              "      <th>BloodPressure</th>\n",
              "      <th>SkinThickness</th>\n",
              "      <th>Insulin</th>\n",
              "      <th>BMI</th>\n",
              "      <th>DiabetesPedigreeFunction</th>\n",
              "      <th>Age</th>\n",
              "    </tr>\n",
              "  </thead>\n",
              "  <tbody>\n",
              "    <tr>\n",
              "      <th>count</th>\n",
              "      <td>392.000000</td>\n",
              "      <td>392.000000</td>\n",
              "      <td>392.000000</td>\n",
              "      <td>392.000000</td>\n",
              "      <td>392.000000</td>\n",
              "      <td>392.000000</td>\n",
              "      <td>392.000000</td>\n",
              "      <td>392.000000</td>\n",
              "    </tr>\n",
              "    <tr>\n",
              "      <th>mean</th>\n",
              "      <td>3.301020</td>\n",
              "      <td>122.627551</td>\n",
              "      <td>70.663265</td>\n",
              "      <td>29.145408</td>\n",
              "      <td>156.056122</td>\n",
              "      <td>33.086224</td>\n",
              "      <td>0.523046</td>\n",
              "      <td>30.864796</td>\n",
              "    </tr>\n",
              "    <tr>\n",
              "      <th>std</th>\n",
              "      <td>3.211424</td>\n",
              "      <td>30.860781</td>\n",
              "      <td>12.496092</td>\n",
              "      <td>10.516424</td>\n",
              "      <td>118.841690</td>\n",
              "      <td>7.027659</td>\n",
              "      <td>0.345488</td>\n",
              "      <td>10.200777</td>\n",
              "    </tr>\n",
              "    <tr>\n",
              "      <th>min</th>\n",
              "      <td>0.000000</td>\n",
              "      <td>56.000000</td>\n",
              "      <td>24.000000</td>\n",
              "      <td>7.000000</td>\n",
              "      <td>14.000000</td>\n",
              "      <td>18.200000</td>\n",
              "      <td>0.085000</td>\n",
              "      <td>21.000000</td>\n",
              "    </tr>\n",
              "    <tr>\n",
              "      <th>25%</th>\n",
              "      <td>1.000000</td>\n",
              "      <td>99.000000</td>\n",
              "      <td>62.000000</td>\n",
              "      <td>21.000000</td>\n",
              "      <td>76.750000</td>\n",
              "      <td>28.400000</td>\n",
              "      <td>0.269750</td>\n",
              "      <td>23.000000</td>\n",
              "    </tr>\n",
              "    <tr>\n",
              "      <th>50%</th>\n",
              "      <td>2.000000</td>\n",
              "      <td>119.000000</td>\n",
              "      <td>70.000000</td>\n",
              "      <td>29.000000</td>\n",
              "      <td>125.500000</td>\n",
              "      <td>33.200000</td>\n",
              "      <td>0.449500</td>\n",
              "      <td>27.000000</td>\n",
              "    </tr>\n",
              "    <tr>\n",
              "      <th>75%</th>\n",
              "      <td>5.000000</td>\n",
              "      <td>143.000000</td>\n",
              "      <td>78.000000</td>\n",
              "      <td>37.000000</td>\n",
              "      <td>190.000000</td>\n",
              "      <td>37.100000</td>\n",
              "      <td>0.687000</td>\n",
              "      <td>36.000000</td>\n",
              "    </tr>\n",
              "    <tr>\n",
              "      <th>max</th>\n",
              "      <td>17.000000</td>\n",
              "      <td>198.000000</td>\n",
              "      <td>110.000000</td>\n",
              "      <td>63.000000</td>\n",
              "      <td>846.000000</td>\n",
              "      <td>67.100000</td>\n",
              "      <td>2.420000</td>\n",
              "      <td>81.000000</td>\n",
              "    </tr>\n",
              "  </tbody>\n",
              "</table>\n",
              "</div>\n",
              "      <button class=\"colab-df-convert\" onclick=\"convertToInteractive('df-cc9f9b14-4ed3-4dd8-919f-c7438b7407dd')\"\n",
              "              title=\"Convert this dataframe to an interactive table.\"\n",
              "              style=\"display:none;\">\n",
              "        \n",
              "  <svg xmlns=\"http://www.w3.org/2000/svg\" height=\"24px\"viewBox=\"0 0 24 24\"\n",
              "       width=\"24px\">\n",
              "    <path d=\"M0 0h24v24H0V0z\" fill=\"none\"/>\n",
              "    <path d=\"M18.56 5.44l.94 2.06.94-2.06 2.06-.94-2.06-.94-.94-2.06-.94 2.06-2.06.94zm-11 1L8.5 8.5l.94-2.06 2.06-.94-2.06-.94L8.5 2.5l-.94 2.06-2.06.94zm10 10l.94 2.06.94-2.06 2.06-.94-2.06-.94-.94-2.06-.94 2.06-2.06.94z\"/><path d=\"M17.41 7.96l-1.37-1.37c-.4-.4-.92-.59-1.43-.59-.52 0-1.04.2-1.43.59L10.3 9.45l-7.72 7.72c-.78.78-.78 2.05 0 2.83L4 21.41c.39.39.9.59 1.41.59.51 0 1.02-.2 1.41-.59l7.78-7.78 2.81-2.81c.8-.78.8-2.07 0-2.86zM5.41 20L4 18.59l7.72-7.72 1.47 1.35L5.41 20z\"/>\n",
              "  </svg>\n",
              "      </button>\n",
              "      \n",
              "  <style>\n",
              "    .colab-df-container {\n",
              "      display:flex;\n",
              "      flex-wrap:wrap;\n",
              "      gap: 12px;\n",
              "    }\n",
              "\n",
              "    .colab-df-convert {\n",
              "      background-color: #E8F0FE;\n",
              "      border: none;\n",
              "      border-radius: 50%;\n",
              "      cursor: pointer;\n",
              "      display: none;\n",
              "      fill: #1967D2;\n",
              "      height: 32px;\n",
              "      padding: 0 0 0 0;\n",
              "      width: 32px;\n",
              "    }\n",
              "\n",
              "    .colab-df-convert:hover {\n",
              "      background-color: #E2EBFA;\n",
              "      box-shadow: 0px 1px 2px rgba(60, 64, 67, 0.3), 0px 1px 3px 1px rgba(60, 64, 67, 0.15);\n",
              "      fill: #174EA6;\n",
              "    }\n",
              "\n",
              "    [theme=dark] .colab-df-convert {\n",
              "      background-color: #3B4455;\n",
              "      fill: #D2E3FC;\n",
              "    }\n",
              "\n",
              "    [theme=dark] .colab-df-convert:hover {\n",
              "      background-color: #434B5C;\n",
              "      box-shadow: 0px 1px 3px 1px rgba(0, 0, 0, 0.15);\n",
              "      filter: drop-shadow(0px 1px 2px rgba(0, 0, 0, 0.3));\n",
              "      fill: #FFFFFF;\n",
              "    }\n",
              "  </style>\n",
              "\n",
              "      <script>\n",
              "        const buttonEl =\n",
              "          document.querySelector('#df-cc9f9b14-4ed3-4dd8-919f-c7438b7407dd button.colab-df-convert');\n",
              "        buttonEl.style.display =\n",
              "          google.colab.kernel.accessAllowed ? 'block' : 'none';\n",
              "\n",
              "        async function convertToInteractive(key) {\n",
              "          const element = document.querySelector('#df-cc9f9b14-4ed3-4dd8-919f-c7438b7407dd');\n",
              "          const dataTable =\n",
              "            await google.colab.kernel.invokeFunction('convertToInteractive',\n",
              "                                                     [key], {});\n",
              "          if (!dataTable) return;\n",
              "\n",
              "          const docLinkHtml = 'Like what you see? Visit the ' +\n",
              "            '<a target=\"_blank\" href=https://colab.research.google.com/notebooks/data_table.ipynb>data table notebook</a>'\n",
              "            + ' to learn more about interactive tables.';\n",
              "          element.innerHTML = '';\n",
              "          dataTable['output_type'] = 'display_data';\n",
              "          await google.colab.output.renderOutput(dataTable, element);\n",
              "          const docLink = document.createElement('div');\n",
              "          docLink.innerHTML = docLinkHtml;\n",
              "          element.appendChild(docLink);\n",
              "        }\n",
              "      </script>\n",
              "    </div>\n",
              "  </div>\n",
              "  "
            ]
          },
          "metadata": {},
          "execution_count": 115
        }
      ]
    },
    {
      "cell_type": "code",
      "source": [
        "#Let's Visualise the Max,Min,Mean,Mode,Median and also outliers using boxplot\n",
        "Diab1.plot(kind='box', subplots=True, layout=(3,3),figsize=(15,15))\n",
        "#Box summaries of columns."
      ],
      "metadata": {
        "colab": {
          "base_uri": "https://localhost:8080/",
          "height": 778
        },
        "id": "62bXIF8ml-Wk",
        "outputId": "80b62516-1b1c-4fa2-fe6a-c283e4d74253"
      },
      "execution_count": null,
      "outputs": [
        {
          "output_type": "execute_result",
          "data": {
            "text/plain": [
              "Pregnancies                    AxesSubplot(0.125,0.657941;0.227941x0.222059)\n",
              "Glucose                     AxesSubplot(0.398529,0.657941;0.227941x0.222059)\n",
              "BloodPressure               AxesSubplot(0.672059,0.657941;0.227941x0.222059)\n",
              "SkinThickness                  AxesSubplot(0.125,0.391471;0.227941x0.222059)\n",
              "Insulin                     AxesSubplot(0.398529,0.391471;0.227941x0.222059)\n",
              "BMI                         AxesSubplot(0.672059,0.391471;0.227941x0.222059)\n",
              "DiabetesPedigreeFunction          AxesSubplot(0.125,0.125;0.227941x0.222059)\n",
              "Age                            AxesSubplot(0.398529,0.125;0.227941x0.222059)\n",
              "dtype: object"
            ]
          },
          "metadata": {},
          "execution_count": 116
        },
        {
          "output_type": "display_data",
          "data": {
            "text/plain": [
              "<Figure size 1080x1080 with 9 Axes>"
            ],
            "image/png": "[encoded data removed]"
          },
          "metadata": {
            "needs_background": "light"
          }
        }
      ]
    },
    {
      "cell_type": "markdown",
      "source": [
        "## **4 .Distribution of outcome:**"
      ],
      "metadata": {
        "id": "s_QZehqYn_1s"
      }
    },
    {
      "cell_type": "code",
      "source": [
        "sns.countplot(x = 'Outcome' , data=Diab) #creating countplot of outcome variable\n",
        "plt.title(\"Count of Non-Diabetic and Diabetic\")\n",
        "plt.xlabel(\"Non-Diabetic or Diabetic\")"
      ],
      "metadata": {
        "colab": {
          "base_uri": "https://localhost:8080/",
          "height": 312
        },
        "id": "Noi_eVSMuUQ1",
        "outputId": "23e36267-3093-4edd-f9b0-df4d48670944"
      },
      "execution_count": null,
      "outputs": [
        {
          "output_type": "execute_result",
          "data": {
            "text/plain": [
              "Text(0.5, 0, 'Non-Diabetic or Diabetic')"
            ]
          },
          "metadata": {},
          "execution_count": 118
        },
        {
          "output_type": "display_data",
          "data": {
            "text/plain": [
              "<Figure size 432x288 with 1 Axes>"
            ],
            "image/png": "[encoded data removed]"
          },
          "metadata": {
            "needs_background": "light"
          }
        }
      ]
    },
    {
      "cell_type": "code",
      "source": [
        "# Counting total numbers in each category\n",
        "count = Diab['Outcome'].value_counts()\n",
        "# Checking the numbers\n",
        "print(count)\n",
        "# Creating categories based on numbers\n",
        "DB = ['Non-Diabetic', 'Diabetic']\n",
        "# Creating plot\n",
        "fig = plt.figure(figsize =(10,5))\n",
        "# Show plot\n",
        "plt.pie(count, labels = DB,autopct='%1.1f%%',shadow=True, startangle=90)\n",
        "plt.title(\"Pie Chart\")\n",
        "plt.show()"
      ],
      "metadata": {
        "id": "9m4Fsn1Sv0rh",
        "colab": {
          "base_uri": "https://localhost:8080/",
          "height": 371
        },
        "outputId": "5606e421-8e8d-4148-8c56-df49b70e714e"
      },
      "execution_count": null,
      "outputs": [
        {
          "output_type": "stream",
          "name": "stdout",
          "text": [
            "0    262\n",
            "1    130\n",
            "Name: Outcome, dtype: int64\n"
          ]
        },
        {
          "output_type": "display_data",
          "data": {
            "text/plain": [
              "<Figure size 720x360 with 1 Axes>"
            ],
            "image/png": "[encoded data removed]"
          },
          "metadata": {}
        }
      ]
    },
    {
      "cell_type": "markdown",
      "source": [
        "### So from countplot as we can see, the count of 0's is more than the 1's.\n",
        "\n",
        "### From pie chart we can see there are 66.8% Non-Diabetic and 33.2% diabetic."
      ],
      "metadata": {
        "id": "0sf9sf82rAoF"
      }
    },
    {
      "cell_type": "markdown",
      "source": [
        "## **5. Is there a difference in glucose level between diabetic and non-diabetic? Similarly for insulin and diabetic vs nondiabetic.**"
      ],
      "metadata": {
        "id": "wi3SBnjos8Sv"
      }
    },
    {
      "cell_type": "code",
      "source": [
        "#Let's create a box plot to see the difference\n",
        "plt.figure(figsize=(10,5))\n",
        "plt.subplot(1,2,1)\n",
        "sns.boxplot(x= \"Outcome\" , y = \"Glucose\" , data= Diab)\n",
        "plt.title(\"Glucose level in different outcome\")\n",
        "plt.xlabel(\"Non-Diabetic or Diabetic\")\n",
        "plt.subplot(1,2,2)\n",
        "sns.boxplot(x= \"Outcome\" , y = \"Insulin\" , data = Diab)\n",
        "plt.title(\"Insulin level in different outcome\")\n",
        "plt.xlabel(\"Non-Diabetic or Diabetic\")"
      ],
      "metadata": {
        "colab": {
          "base_uri": "https://localhost:8080/",
          "height": 367
        },
        "id": "Qic7PU1cq4Ga",
        "outputId": "6b0d46d4-5998-4568-9933-7e602e9a0e67"
      },
      "execution_count": 43,
      "outputs": [
        {
          "output_type": "execute_result",
          "data": {
            "text/plain": [
              "Text(0.5, 0, 'Non-Diabetic or Diabetic')"
            ]
          },
          "metadata": {},
          "execution_count": 43
        },
        {
          "output_type": "display_data",
          "data": {
            "text/plain": [
              "<Figure size 720x360 with 2 Axes>"
            ],
            "image/png": "[encoded data removed]"
          },
          "metadata": {
            "needs_background": "light"
          }
        }
      ]
    },
    {
      "cell_type": "code",
      "source": [
        "#lets subset the data by Outcome\n",
        "dia1 = Diab[Diab.Outcome==1]  #data with Diabetic\n",
        "dia0 = Diab[Diab.Outcome==0]  #data with nonDiabetic"
      ],
      "metadata": {
        "id": "rPa-w7WJtz2-"
      },
      "execution_count": 45,
      "outputs": []
    },
    {
      "cell_type": "code",
      "source": [
        "diab1 = dia1[[\"Glucose\", \"Insulin\"]] #droping unwanted columns\n",
        "diab1.describe() #statistical analysis of glucose level and Insulin of Diabetic data"
      ],
      "metadata": {
        "colab": {
          "base_uri": "https://localhost:8080/",
          "height": 300
        },
        "id": "HRFZNu4durZ8",
        "outputId": "2130705b-5729-4d89-a036-39dbcd1ee8ee"
      },
      "execution_count": 52,
      "outputs": [
        {
          "output_type": "execute_result",
          "data": {
            "text/plain": [
              "          Glucose     Insulin\n",
              "count  130.000000  130.000000\n",
              "mean   145.192308    5.141971\n",
              "std     29.839388    0.593125\n",
              "min     78.000000    2.639057\n",
              "25%    124.250000    4.838258\n",
              "50%    144.500000    5.123964\n",
              "75%    171.750000    5.461650\n",
              "max    198.000000    6.396930"
            ],
            "text/html": [
              "\n",
              "  <div id=\"df-1df7b670-e6c0-4e4e-97d1-9080116f6e39\">\n",
              "    <div class=\"colab-df-container\">\n",
              "      <div>\n",
              "<style scoped>\n",
              "    .dataframe tbody tr th:only-of-type {\n",
              "        vertical-align: middle;\n",
              "    }\n",
              "\n",
              "    .dataframe tbody tr th {\n",
              "        vertical-align: top;\n",
              "    }\n",
              "\n",
              "    .dataframe thead th {\n",
              "        text-align: right;\n",
              "    }\n",
              "</style>\n",
              "<table border=\"1\" class=\"dataframe\">\n",
              "  <thead>\n",
              "    <tr style=\"text-align: right;\">\n",
              "      <th></th>\n",
              "      <th>Glucose</th>\n",
              "      <th>Insulin</th>\n",
              "    </tr>\n",
              "  </thead>\n",
              "  <tbody>\n",
              "    <tr>\n",
              "      <th>count</th>\n",
              "      <td>130.000000</td>\n",
              "      <td>130.000000</td>\n",
              "    </tr>\n",
              "    <tr>\n",
              "      <th>mean</th>\n",
              "      <td>145.192308</td>\n",
              "      <td>5.141971</td>\n",
              "    </tr>\n",
              "    <tr>\n",
              "      <th>std</th>\n",
              "      <td>29.839388</td>\n",
              "      <td>0.593125</td>\n",
              "    </tr>\n",
              "    <tr>\n",
              "      <th>min</th>\n",
              "      <td>78.000000</td>\n",
              "      <td>2.639057</td>\n",
              "    </tr>\n",
              "    <tr>\n",
              "      <th>25%</th>\n",
              "      <td>124.250000</td>\n",
              "      <td>4.838258</td>\n",
              "    </tr>\n",
              "    <tr>\n",
              "      <th>50%</th>\n",
              "      <td>144.500000</td>\n",
              "      <td>5.123964</td>\n",
              "    </tr>\n",
              "    <tr>\n",
              "      <th>75%</th>\n",
              "      <td>171.750000</td>\n",
              "      <td>5.461650</td>\n",
              "    </tr>\n",
              "    <tr>\n",
              "      <th>max</th>\n",
              "      <td>198.000000</td>\n",
              "      <td>6.396930</td>\n",
              "    </tr>\n",
              "  </tbody>\n",
              "</table>\n",
              "</div>\n",
              "      <button class=\"colab-df-convert\" onclick=\"convertToInteractive('df-1df7b670-e6c0-4e4e-97d1-9080116f6e39')\"\n",
              "              title=\"Convert this dataframe to an interactive table.\"\n",
              "              style=\"display:none;\">\n",
              "        \n",
              "  <svg xmlns=\"http://www.w3.org/2000/svg\" height=\"24px\"viewBox=\"0 0 24 24\"\n",
              "       width=\"24px\">\n",
              "    <path d=\"M0 0h24v24H0V0z\" fill=\"none\"/>\n",
              "    <path d=\"M18.56 5.44l.94 2.06.94-2.06 2.06-.94-2.06-.94-.94-2.06-.94 2.06-2.06.94zm-11 1L8.5 8.5l.94-2.06 2.06-.94-2.06-.94L8.5 2.5l-.94 2.06-2.06.94zm10 10l.94 2.06.94-2.06 2.06-.94-2.06-.94-.94-2.06-.94 2.06-2.06.94z\"/><path d=\"M17.41 7.96l-1.37-1.37c-.4-.4-.92-.59-1.43-.59-.52 0-1.04.2-1.43.59L10.3 9.45l-7.72 7.72c-.78.78-.78 2.05 0 2.83L4 21.41c.39.39.9.59 1.41.59.51 0 1.02-.2 1.41-.59l7.78-7.78 2.81-2.81c.8-.78.8-2.07 0-2.86zM5.41 20L4 18.59l7.72-7.72 1.47 1.35L5.41 20z\"/>\n",
              "  </svg>\n",
              "      </button>\n",
              "      \n",
              "  <style>\n",
              "    .colab-df-container {\n",
              "      display:flex;\n",
              "      flex-wrap:wrap;\n",
              "      gap: 12px;\n",
              "    }\n",
              "\n",
              "    .colab-df-convert {\n",
              "      background-color: #E8F0FE;\n",
              "      border: none;\n",
              "      border-radius: 50%;\n",
              "      cursor: pointer;\n",
              "      display: none;\n",
              "      fill: #1967D2;\n",
              "      height: 32px;\n",
              "      padding: 0 0 0 0;\n",
              "      width: 32px;\n",
              "    }\n",
              "\n",
              "    .colab-df-convert:hover {\n",
              "      background-color: #E2EBFA;\n",
              "      box-shadow: 0px 1px 2px rgba(60, 64, 67, 0.3), 0px 1px 3px 1px rgba(60, 64, 67, 0.15);\n",
              "      fill: #174EA6;\n",
              "    }\n",
              "\n",
              "    [theme=dark] .colab-df-convert {\n",
              "      background-color: #3B4455;\n",
              "      fill: #D2E3FC;\n",
              "    }\n",
              "\n",
              "    [theme=dark] .colab-df-convert:hover {\n",
              "      background-color: #434B5C;\n",
              "      box-shadow: 0px 1px 3px 1px rgba(0, 0, 0, 0.15);\n",
              "      filter: drop-shadow(0px 1px 2px rgba(0, 0, 0, 0.3));\n",
              "      fill: #FFFFFF;\n",
              "    }\n",
              "  </style>\n",
              "\n",
              "      <script>\n",
              "        const buttonEl =\n",
              "          document.querySelector('#df-1df7b670-e6c0-4e4e-97d1-9080116f6e39 button.colab-df-convert');\n",
              "        buttonEl.style.display =\n",
              "          google.colab.kernel.accessAllowed ? 'block' : 'none';\n",
              "\n",
              "        async function convertToInteractive(key) {\n",
              "          const element = document.querySelector('#df-1df7b670-e6c0-4e4e-97d1-9080116f6e39');\n",
              "          const dataTable =\n",
              "            await google.colab.kernel.invokeFunction('convertToInteractive',\n",
              "                                                     [key], {});\n",
              "          if (!dataTable) return;\n",
              "\n",
              "          const docLinkHtml = 'Like what you see? Visit the ' +\n",
              "            '<a target=\"_blank\" href=https://colab.research.google.com/notebooks/data_table.ipynb>data table notebook</a>'\n",
              "            + ' to learn more about interactive tables.';\n",
              "          element.innerHTML = '';\n",
              "          dataTable['output_type'] = 'display_data';\n",
              "          await google.colab.output.renderOutput(dataTable, element);\n",
              "          const docLink = document.createElement('div');\n",
              "          docLink.innerHTML = docLinkHtml;\n",
              "          element.appendChild(docLink);\n",
              "        }\n",
              "      </script>\n",
              "    </div>\n",
              "  </div>\n",
              "  "
            ]
          },
          "metadata": {},
          "execution_count": 52
        }
      ]
    },
    {
      "cell_type": "code",
      "source": [
        "diab0 = dia0[[\"Glucose\", \"Insulin\"]]  #droping unwanted columns\n",
        "diab0.describe()#statistical analysis of glucose level and Insulin of Non-Diabetic data"
      ],
      "metadata": {
        "colab": {
          "base_uri": "https://localhost:8080/",
          "height": 300
        },
        "id": "vw2dqquKC1bk",
        "outputId": "c16ea0a9-ffc6-4012-8da9-3c18fbd293e6"
      },
      "execution_count": 54,
      "outputs": [
        {
          "output_type": "execute_result",
          "data": {
            "text/plain": [
              "          Glucose     Insulin\n",
              "count  262.000000  262.000000\n",
              "mean   111.431298    4.629378\n",
              "std     24.642133    0.651843\n",
              "min     56.000000    2.708050\n",
              "25%     94.000000    4.189655\n",
              "50%    107.500000    4.653960\n",
              "75%    126.000000    5.072029\n",
              "max    197.000000    6.300786"
            ],
            "text/html": [
              "\n",
              "  <div id=\"df-2cc95e2c-1934-41d6-9c7f-39ef99aa1125\">\n",
              "    <div class=\"colab-df-container\">\n",
              "      <div>\n",
              "<style scoped>\n",
              "    .dataframe tbody tr th:only-of-type {\n",
              "        vertical-align: middle;\n",
              "    }\n",
              "\n",
              "    .dataframe tbody tr th {\n",
              "        vertical-align: top;\n",
              "    }\n",
              "\n",
              "    .dataframe thead th {\n",
              "        text-align: right;\n",
              "    }\n",
              "</style>\n",
              "<table border=\"1\" class=\"dataframe\">\n",
              "  <thead>\n",
              "    <tr style=\"text-align: right;\">\n",
              "      <th></th>\n",
              "      <th>Glucose</th>\n",
              "      <th>Insulin</th>\n",
              "    </tr>\n",
              "  </thead>\n",
              "  <tbody>\n",
              "    <tr>\n",
              "      <th>count</th>\n",
              "      <td>262.000000</td>\n",
              "      <td>262.000000</td>\n",
              "    </tr>\n",
              "    <tr>\n",
              "      <th>mean</th>\n",
              "      <td>111.431298</td>\n",
              "      <td>4.629378</td>\n",
              "    </tr>\n",
              "    <tr>\n",
              "      <th>std</th>\n",
              "      <td>24.642133</td>\n",
              "      <td>0.651843</td>\n",
              "    </tr>\n",
              "    <tr>\n",
              "      <th>min</th>\n",
              "      <td>56.000000</td>\n",
              "      <td>2.708050</td>\n",
              "    </tr>\n",
              "    <tr>\n",
              "      <th>25%</th>\n",
              "      <td>94.000000</td>\n",
              "      <td>4.189655</td>\n",
              "    </tr>\n",
              "    <tr>\n",
              "      <th>50%</th>\n",
              "      <td>107.500000</td>\n",
              "      <td>4.653960</td>\n",
              "    </tr>\n",
              "    <tr>\n",
              "      <th>75%</th>\n",
              "      <td>126.000000</td>\n",
              "      <td>5.072029</td>\n",
              "    </tr>\n",
              "    <tr>\n",
              "      <th>max</th>\n",
              "      <td>197.000000</td>\n",
              "      <td>6.300786</td>\n",
              "    </tr>\n",
              "  </tbody>\n",
              "</table>\n",
              "</div>\n",
              "      <button class=\"colab-df-convert\" onclick=\"convertToInteractive('df-2cc95e2c-1934-41d6-9c7f-39ef99aa1125')\"\n",
              "              title=\"Convert this dataframe to an interactive table.\"\n",
              "              style=\"display:none;\">\n",
              "        \n",
              "  <svg xmlns=\"http://www.w3.org/2000/svg\" height=\"24px\"viewBox=\"0 0 24 24\"\n",
              "       width=\"24px\">\n",
              "    <path d=\"M0 0h24v24H0V0z\" fill=\"none\"/>\n",
              "    <path d=\"M18.56 5.44l.94 2.06.94-2.06 2.06-.94-2.06-.94-.94-2.06-.94 2.06-2.06.94zm-11 1L8.5 8.5l.94-2.06 2.06-.94-2.06-.94L8.5 2.5l-.94 2.06-2.06.94zm10 10l.94 2.06.94-2.06 2.06-.94-2.06-.94-.94-2.06-.94 2.06-2.06.94z\"/><path d=\"M17.41 7.96l-1.37-1.37c-.4-.4-.92-.59-1.43-.59-.52 0-1.04.2-1.43.59L10.3 9.45l-7.72 7.72c-.78.78-.78 2.05 0 2.83L4 21.41c.39.39.9.59 1.41.59.51 0 1.02-.2 1.41-.59l7.78-7.78 2.81-2.81c.8-.78.8-2.07 0-2.86zM5.41 20L4 18.59l7.72-7.72 1.47 1.35L5.41 20z\"/>\n",
              "  </svg>\n",
              "      </button>\n",
              "      \n",
              "  <style>\n",
              "    .colab-df-container {\n",
              "      display:flex;\n",
              "      flex-wrap:wrap;\n",
              "      gap: 12px;\n",
              "    }\n",
              "\n",
              "    .colab-df-convert {\n",
              "      background-color: #E8F0FE;\n",
              "      border: none;\n",
              "      border-radius: 50%;\n",
              "      cursor: pointer;\n",
              "      display: none;\n",
              "      fill: #1967D2;\n",
              "      height: 32px;\n",
              "      padding: 0 0 0 0;\n",
              "      width: 32px;\n",
              "    }\n",
              "\n",
              "    .colab-df-convert:hover {\n",
              "      background-color: #E2EBFA;\n",
              "      box-shadow: 0px 1px 2px rgba(60, 64, 67, 0.3), 0px 1px 3px 1px rgba(60, 64, 67, 0.15);\n",
              "      fill: #174EA6;\n",
              "    }\n",
              "\n",
              "    [theme=dark] .colab-df-convert {\n",
              "      background-color: #3B4455;\n",
              "      fill: #D2E3FC;\n",
              "    }\n",
              "\n",
              "    [theme=dark] .colab-df-convert:hover {\n",
              "      background-color: #434B5C;\n",
              "      box-shadow: 0px 1px 3px 1px rgba(0, 0, 0, 0.15);\n",
              "      filter: drop-shadow(0px 1px 2px rgba(0, 0, 0, 0.3));\n",
              "      fill: #FFFFFF;\n",
              "    }\n",
              "  </style>\n",
              "\n",
              "      <script>\n",
              "        const buttonEl =\n",
              "          document.querySelector('#df-2cc95e2c-1934-41d6-9c7f-39ef99aa1125 button.colab-df-convert');\n",
              "        buttonEl.style.display =\n",
              "          google.colab.kernel.accessAllowed ? 'block' : 'none';\n",
              "\n",
              "        async function convertToInteractive(key) {\n",
              "          const element = document.querySelector('#df-2cc95e2c-1934-41d6-9c7f-39ef99aa1125');\n",
              "          const dataTable =\n",
              "            await google.colab.kernel.invokeFunction('convertToInteractive',\n",
              "                                                     [key], {});\n",
              "          if (!dataTable) return;\n",
              "\n",
              "          const docLinkHtml = 'Like what you see? Visit the ' +\n",
              "            '<a target=\"_blank\" href=https://colab.research.google.com/notebooks/data_table.ipynb>data table notebook</a>'\n",
              "            + ' to learn more about interactive tables.';\n",
              "          element.innerHTML = '';\n",
              "          dataTable['output_type'] = 'display_data';\n",
              "          await google.colab.output.renderOutput(dataTable, element);\n",
              "          const docLink = document.createElement('div');\n",
              "          docLink.innerHTML = docLinkHtml;\n",
              "          element.appendChild(docLink);\n",
              "        }\n",
              "      </script>\n",
              "    </div>\n",
              "  </div>\n",
              "  "
            ]
          },
          "metadata": {},
          "execution_count": 54
        }
      ]
    },
    {
      "cell_type": "markdown",
      "source": [
        "### From above Boxplot and 5 point analysis, it's clear that the mean,50%,25%, and 75% of Glucose level and also Insulin is higher in case of Diabetic.\n"
      ],
      "metadata": {
        "id": "Um7LWih0wKv7"
      }
    },
    {
      "cell_type": "markdown",
      "source": [
        "## **6. Relationship between insulin and glucose level:**"
      ],
      "metadata": {
        "id": "5CYM6aXTy1qU"
      }
    },
    {
      "cell_type": "code",
      "source": [
        "# Both Insulin and Glucose level is Numerical data\n",
        "#Thus let's use regplot to examine relationship between them\n",
        "plt.figure(figsize=(10,5))\n",
        "sns.regplot(x= \"Insulin\", y= \"Glucose\", data = Diab)\n",
        "plt.title(\"Relation between Insulin and Glucose level\")"
      ],
      "metadata": {
        "id": "iJY5m0fcyTBN",
        "colab": {
          "base_uri": "https://localhost:8080/",
          "height": 367
        },
        "outputId": "84de8bc5-ad51-4e81-b957-27f81a57f8f6"
      },
      "execution_count": null,
      "outputs": [
        {
          "output_type": "execute_result",
          "data": {
            "text/plain": [
              "Text(0.5, 1.0, 'Relation between Insulin and Glucose level')"
            ]
          },
          "metadata": {},
          "execution_count": 127
        },
        {
          "output_type": "display_data",
          "data": {
            "text/plain": [
              "<Figure size 720x360 with 1 Axes>"
            ],
            "image/png": "[encoded data removed]"
          },
          "metadata": {
            "needs_background": "light"
          }
        }
      ]
    },
    {
      "cell_type": "code",
      "source": [
        "#Let's find correlation between Glucose and Insulin\n",
        "np.corrcoef(Diab[\"Insulin\"] , Diab[\"Glucose\"])[0,1]  #used [0,1] to covert the matrix"
      ],
      "metadata": {
        "colab": {
          "base_uri": "https://localhost:8080/"
        },
        "id": "Z_Uop5pmKtvI",
        "outputId": "94543af9-ef1e-496a-850c-fdb97411d515"
      },
      "execution_count": null,
      "outputs": [
        {
          "output_type": "execute_result",
          "data": {
            "text/plain": [
              "0.5812230123542534"
            ]
          },
          "metadata": {},
          "execution_count": 128
        }
      ]
    },
    {
      "cell_type": "markdown",
      "source": [
        "### From above Regplot graph also as the correlation coefficient between the Insulin and Glucose level is 0.5812 , so we can say they are positively correlated. However they are not linearly correlated."
      ],
      "metadata": {
        "id": "z9RlZVzHNBGe"
      }
    },
    {
      "cell_type": "markdown",
      "source": [
        "## **7. Distribution of numerical data:**"
      ],
      "metadata": {
        "id": "WjbzNqgIPS3I"
      }
    },
    {
      "cell_type": "code",
      "source": [
        "#USing distplot to plot the density or distribution graph.\n",
        "#using subplot function to plot multiple graphs\n",
        "plt.figure(figsize=(15, 15))\n",
        "plt.subplot(3,3,1)\n",
        "sns.distplot(Diab1[\"Pregnancies\"])\n",
        "plt.title(\"Distribution plot for Pregnancies\")\n",
        "plt.subplot(3,3,2)\n",
        "sns.distplot(Diab1[\"Glucose\"])\n",
        "plt.title(\"Distribution plot for Glucose\")\n",
        "plt.subplot(3,3,3)\n",
        "sns.distplot(Diab1[\"BloodPressure\"])\n",
        "plt.title(\"Distribution plot for BloodPressure\")\n",
        "plt.subplot(3,3,4)\n",
        "sns.distplot(Diab1[\"SkinThickness\"])\n",
        "plt.title(\"Distribution plot for SkinThickness\")\n",
        "plt.subplot(3,3,5)\n",
        "sns.distplot(Diab1[\"BMI\"])\n",
        "plt.title(\"Distribution plot for BMI\")\n",
        "plt.subplot(3,3,6)\n",
        "sns.distplot(Diab1[\"Age\"])\n",
        "plt.title(\"Distribution plot for Age\")\n",
        "plt.subplot(3,3,7)\n",
        "sns.distplot(Diab1[\"DiabetesPedigreeFunction\"])\n",
        "plt.title(\"Distribution plot for DiabetesPedigreeFunction\")\n",
        "plt.subplot(3,3,8)\n",
        "sns.distplot(Diab1[\"Insulin\"])\n",
        "plt.title(\"Distribution plot for Insulin\")"
      ],
      "metadata": {
        "colab": {
          "base_uri": "https://localhost:8080/",
          "height": 944
        },
        "id": "Hg4FEZBNQl9c",
        "outputId": "6c48bf91-8193-4ead-a42f-5770eb5443ea"
      },
      "execution_count": null,
      "outputs": [
        {
          "output_type": "stream",
          "name": "stderr",
          "text": [
            "/usr/local/lib/python3.7/dist-packages/seaborn/distributions.py:2619: FutureWarning: `distplot` is a deprecated function and will be removed in a future version. Please adapt your code to use either `displot` (a figure-level function with similar flexibility) or `histplot` (an axes-level function for histograms).\n",
            "  warnings.warn(msg, FutureWarning)\n",
            "/usr/local/lib/python3.7/dist-packages/seaborn/distributions.py:2619: FutureWarning: `distplot` is a deprecated function and will be removed in a future version. Please adapt your code to use either `displot` (a figure-level function with similar flexibility) or `histplot` (an axes-level function for histograms).\n",
            "  warnings.warn(msg, FutureWarning)\n",
            "/usr/local/lib/python3.7/dist-packages/seaborn/distributions.py:2619: FutureWarning: `distplot` is a deprecated function and will be removed in a future version. Please adapt your code to use either `displot` (a figure-level function with similar flexibility) or `histplot` (an axes-level function for histograms).\n",
            "  warnings.warn(msg, FutureWarning)\n",
            "/usr/local/lib/python3.7/dist-packages/seaborn/distributions.py:2619: FutureWarning: `distplot` is a deprecated function and will be removed in a future version. Please adapt your code to use either `displot` (a figure-level function with similar flexibility) or `histplot` (an axes-level function for histograms).\n",
            "  warnings.warn(msg, FutureWarning)\n",
            "/usr/local/lib/python3.7/dist-packages/seaborn/distributions.py:2619: FutureWarning: `distplot` is a deprecated function and will be removed in a future version. Please adapt your code to use either `displot` (a figure-level function with similar flexibility) or `histplot` (an axes-level function for histograms).\n",
            "  warnings.warn(msg, FutureWarning)\n",
            "/usr/local/lib/python3.7/dist-packages/seaborn/distributions.py:2619: FutureWarning: `distplot` is a deprecated function and will be removed in a future version. Please adapt your code to use either `displot` (a figure-level function with similar flexibility) or `histplot` (an axes-level function for histograms).\n",
            "  warnings.warn(msg, FutureWarning)\n",
            "/usr/local/lib/python3.7/dist-packages/seaborn/distributions.py:2619: FutureWarning: `distplot` is a deprecated function and will be removed in a future version. Please adapt your code to use either `displot` (a figure-level function with similar flexibility) or `histplot` (an axes-level function for histograms).\n",
            "  warnings.warn(msg, FutureWarning)\n",
            "/usr/local/lib/python3.7/dist-packages/seaborn/distributions.py:2619: FutureWarning: `distplot` is a deprecated function and will be removed in a future version. Please adapt your code to use either `displot` (a figure-level function with similar flexibility) or `histplot` (an axes-level function for histograms).\n",
            "  warnings.warn(msg, FutureWarning)\n"
          ]
        },
        {
          "output_type": "execute_result",
          "data": {
            "text/plain": [
              "Text(0.5, 1.0, 'Distribution plot for Insulin')"
            ]
          },
          "metadata": {},
          "execution_count": 129
        },
        {
          "output_type": "display_data",
          "data": {
            "text/plain": [
              "<Figure size 1080x1080 with 8 Axes>"
            ],
            "image/png": "[encoded data removed]"
          },
          "metadata": {
            "needs_background": "light"
          }
        }
      ]
    },
    {
      "cell_type": "markdown",
      "source": [
        "### From the above distribution graphs,\n",
        "###1. Glucose , Blood pressure , Skin thickness plots are symmetrrical.\n",
        "###2. all other plots are positively skewed or right skewed."
      ],
      "metadata": {
        "id": "4-2hEPI3kUzB"
      }
    },
    {
      "cell_type": "markdown",
      "source": [
        "## **8. Skewness value:**"
      ],
      "metadata": {
        "id": "DmeuQimFj9M1"
      }
    },
    {
      "cell_type": "code",
      "source": [
        "#Lets also find the skewness of all the variables\n",
        "Diab1.skew()"
      ],
      "metadata": {
        "colab": {
          "base_uri": "https://localhost:8080/"
        },
        "id": "c_gxri8JSSAu",
        "outputId": "da0df967-600e-4da0-e97b-b9c473a3e80a"
      },
      "execution_count": null,
      "outputs": [
        {
          "output_type": "execute_result",
          "data": {
            "text/plain": [
              "Pregnancies                 1.335596\n",
              "Glucose                     0.517850\n",
              "BloodPressure              -0.087516\n",
              "SkinThickness               0.209311\n",
              "Insulin                     2.165116\n",
              "BMI                         0.663485\n",
              "DiabetesPedigreeFunction    1.959101\n",
              "Age                         1.403607\n",
              "dtype: float64"
            ]
          },
          "metadata": {},
          "execution_count": 130
        }
      ]
    },
    {
      "cell_type": "markdown",
      "source": [
        "### From the skewness calculation,\n",
        "###1. skewness of pregnancies, Insulin , DiabetesPedigreeFunction and age is greater than 1. so they are higly positively skewed.\n",
        "###2. The skewness value of Glucose and BMI is between 0.5 and 1 , so they are moderately skewed.\n",
        "###3. Skewness value of Blood pressure and skin thickness is around 0, thus they are normaly distributed."
      ],
      "metadata": {
        "id": "GvpDkyHZWR85"
      }
    },
    {
      "cell_type": "markdown",
      "source": [
        "## **9. Examining outliers:**"
      ],
      "metadata": {
        "id": "3WVeLyU0YL3_"
      }
    },
    {
      "cell_type": "code",
      "source": [
        "#Let's use Box plot to see the outliers of our variables\n",
        "Diab1.plot(kind='box', subplots=True, layout=(3,3),figsize=(15,15))\n",
        "#using pplot function to plot all the columns at a time "
      ],
      "metadata": {
        "id": "I7LCEF_EU29s",
        "colab": {
          "base_uri": "https://localhost:8080/",
          "height": 778
        },
        "outputId": "37cab3b8-12d2-4146-f17b-d63c3ed58df4"
      },
      "execution_count": null,
      "outputs": [
        {
          "output_type": "execute_result",
          "data": {
            "text/plain": [
              "Pregnancies                    AxesSubplot(0.125,0.657941;0.227941x0.222059)\n",
              "Glucose                     AxesSubplot(0.398529,0.657941;0.227941x0.222059)\n",
              "BloodPressure               AxesSubplot(0.672059,0.657941;0.227941x0.222059)\n",
              "SkinThickness                  AxesSubplot(0.125,0.391471;0.227941x0.222059)\n",
              "Insulin                     AxesSubplot(0.398529,0.391471;0.227941x0.222059)\n",
              "BMI                         AxesSubplot(0.672059,0.391471;0.227941x0.222059)\n",
              "DiabetesPedigreeFunction          AxesSubplot(0.125,0.125;0.227941x0.222059)\n",
              "Age                            AxesSubplot(0.398529,0.125;0.227941x0.222059)\n",
              "dtype: object"
            ]
          },
          "metadata": {},
          "execution_count": 131
        },
        {
          "output_type": "display_data",
          "data": {
            "text/plain": [
              "<Figure size 1080x1080 with 9 Axes>"
            ],
            "image/png": "[encoded data removed]"
          },
          "metadata": {
            "needs_background": "light"
          }
        }
      ]
    },
    {
      "cell_type": "markdown",
      "source": [
        "### As we can see form the avove there are some extreme outliers in pregnancies,insulin,BMI,Diabetic pedigree function and Age variables."
      ],
      "metadata": {
        "id": "FzJsE0DubjRF"
      }
    },
    {
      "cell_type": "markdown",
      "source": [
        "## **10. What should be the measures of central tendency and dispersion for skewed data?**"
      ],
      "metadata": {
        "id": "nmxQTFTrdBFL"
      }
    },
    {
      "cell_type": "markdown",
      "source": [
        "## 1.Pregnancies, Insulin , DiabetesPedigreeFunction and age columns are highly positively skewed. Thus median is the correct measure for central tendency.\n",
        "##2. Glucose , Blood pressure and skin thickness plots are symmetrical or normaly distributed. Thus Mean is the correct measure for central tendency.\n",
        "##3.BMI is moderately skewed, thus we can replace the missing values or outliers and can use mean as measure of cental tendency.\n",
        "#4.IQR is the correct measure of dispersion for Skewed data."
      ],
      "metadata": {
        "id": "0zwuYUYigMtj"
      }
    },
    {
      "cell_type": "markdown",
      "source": [
        "## **11. Filling of missing values:**"
      ],
      "metadata": {
        "id": "-Iv-YqJ2rVai"
      }
    },
    {
      "cell_type": "markdown",
      "source": [
        "##We have already removed rows with missing values or null values before analysing it.\n",
        "\n",
        "##Then reason that i removed those rows because the number of null entries for some variables is very high which is about 50% of the data. \n",
        "\n",
        "##Still there are some outliers in some columns. Let's replace those with appropriate measures."
      ],
      "metadata": {
        "id": "rYc1vJIdr0qX"
      }
    },
    {
      "cell_type": "markdown",
      "source": [
        "# Pregnancies:"
      ],
      "metadata": {
        "id": "_ptxXlu1GM6P"
      }
    },
    {
      "cell_type": "code",
      "source": [
        "# Replace outliers with median as Pregnancies is highly skewed\n",
        "median = Diab.loc[Diab['Pregnancies']<14, 'Pregnancies'].median()\n",
        "#Let's find the median of all the entries before 14\n",
        "Diab.loc[Diab.Pregnancies > 14, 'Pregnancies'] = np.nan\n",
        "#replace them with nan\n",
        "Diab.fillna(median,inplace=True)\n",
        "#fill with median\n",
        "Diab.Pregnancies.skew()\n",
        "#still it is highly skewed"
      ],
      "metadata": {
        "colab": {
          "base_uri": "https://localhost:8080/"
        },
        "id": "OBBvbwyBwn2H",
        "outputId": "3a08c631-9d6d-4233-8f0f-fcf90bee045b"
      },
      "execution_count": null,
      "outputs": [
        {
          "output_type": "execute_result",
          "data": {
            "text/plain": [
              "1.2163909201375116"
            ]
          },
          "metadata": {},
          "execution_count": 23
        }
      ]
    },
    {
      "cell_type": "markdown",
      "source": [
        "# Insulin:"
      ],
      "metadata": {
        "id": "4iqKbLoTGRzQ"
      }
    },
    {
      "cell_type": "code",
      "source": [
        "# Replace outliers with median as Insulin is highly skewed\n",
        "median = Diab.loc[Diab['Insulin']<600, 'Insulin'].median()\n",
        "#Let's find the median of all the entries before 14\n",
        "Diab.loc[Diab.Insulin > 600, 'Insulin'] = np.nan\n",
        "#replace them with nan\n",
        "Diab.fillna(median,inplace=True)\n",
        "#fill with median\n",
        "Diab.Insulin.skew()\n",
        "#still it is highly skewed"
      ],
      "metadata": {
        "colab": {
          "base_uri": "https://localhost:8080/"
        },
        "id": "28fTPVYFyYOu",
        "outputId": "618b42fe-c9e6-40f0-a2fe-6565a3ba01d1"
      },
      "execution_count": null,
      "outputs": [
        {
          "output_type": "execute_result",
          "data": {
            "text/plain": [
              "1.7159315917627835"
            ]
          },
          "metadata": {},
          "execution_count": 24
        }
      ]
    },
    {
      "cell_type": "markdown",
      "source": [
        "#Diabetes Pedigree Function:"
      ],
      "metadata": {
        "id": "iGNSKcisGW1W"
      }
    },
    {
      "cell_type": "code",
      "source": [
        "# Replace outliers with median as DiabetesPedigreeFunction is highly skewed\n",
        "median = Diab.loc[Diab['DiabetesPedigreeFunction']<1.5, 'DiabetesPedigreeFunction'].median()\n",
        "#Let's find the median of all the entries before 14\n",
        "Diab.loc[Diab.DiabetesPedigreeFunction > 1.5, 'DiabetesPedigreeFunction'] = np.nan\n",
        "#replace them with nan\n",
        "Diab.fillna(median,inplace=True)\n",
        "#fill with median\n",
        "Diab.DiabetesPedigreeFunction.skew()\n",
        "#It is now moderately positively skewed as skewness is >0.5 but <1 "
      ],
      "metadata": {
        "colab": {
          "base_uri": "https://localhost:8080/"
        },
        "id": "E6P6_Fimz0Ow",
        "outputId": "9e120e2a-cb13-4556-c962-a868d6dac5ff"
      },
      "execution_count": null,
      "outputs": [
        {
          "output_type": "execute_result",
          "data": {
            "text/plain": [
              "0.9618247408527172"
            ]
          },
          "metadata": {},
          "execution_count": 25
        }
      ]
    },
    {
      "cell_type": "markdown",
      "source": [
        "#Age:"
      ],
      "metadata": {
        "id": "U-Mh9E1GGgiZ"
      }
    },
    {
      "cell_type": "code",
      "source": [
        "# Replace outliers with median as Age is highly skewed\n",
        "median = Diab.loc[Diab['Age']<70, 'Age'].median()\n",
        "#Let's find the median of all the entries before 14\n",
        "Diab.loc[Diab.Age > 70, 'Age'] = np.nan\n",
        "#replace them with nan\n",
        "Diab.fillna(median,inplace=True)\n",
        "#fill with median\n",
        "Diab.Age.skew()\n",
        "#still it is highly skewed"
      ],
      "metadata": {
        "colab": {
          "base_uri": "https://localhost:8080/"
        },
        "id": "tt9txCwM1KGa",
        "outputId": "ecdad114-f8d7-439e-d573-6db28d2717ee"
      },
      "execution_count": null,
      "outputs": [
        {
          "output_type": "execute_result",
          "data": {
            "text/plain": [
              "1.2502014549158347"
            ]
          },
          "metadata": {},
          "execution_count": 26
        }
      ]
    },
    {
      "cell_type": "markdown",
      "source": [
        "#BMI:"
      ],
      "metadata": {
        "id": "kaorWKkdGjkx"
      }
    },
    {
      "cell_type": "code",
      "source": [
        "# Replace outliers with Mean as BMI is very moderately skewed\n",
        "mean = Diab.loc[Diab['BMI']<60, 'BMI'].mean()\n",
        "#Let's find the median of all the entries before 14\n",
        "Diab.loc[Diab.BMI > 60, 'BMI'] = np.nan\n",
        "#replace them with nan\n",
        "Diab.fillna(mean,inplace=True)\n",
        "#fill with Mean\n",
        "Diab.BMI.skew()\n",
        "#Now BMI is Normaly distributed or symmetric as skewness is <0.5 and >-0.5"
      ],
      "metadata": {
        "colab": {
          "base_uri": "https://localhost:8080/"
        },
        "id": "adEdYGbs17cq",
        "outputId": "464b3dee-c67e-4705-c075-7641c24cb469"
      },
      "execution_count": null,
      "outputs": [
        {
          "output_type": "execute_result",
          "data": {
            "text/plain": [
              "0.4467527193259752"
            ]
          },
          "metadata": {},
          "execution_count": 27
        }
      ]
    },
    {
      "cell_type": "markdown",
      "source": [
        "###After replacing the outliers of certain variables, the distribution of BMI became symmetrical. \n",
        "\n",
        "###However distribution of DiabetesPedigreeFunction , Age , Insulin and Pregnancies still remail highly skewed."
      ],
      "metadata": {
        "id": "2HVa5TFV93Zj"
      }
    },
    {
      "cell_type": "markdown",
      "source": [
        "## **12. Performing transformation:**"
      ],
      "metadata": {
        "id": "6EqB33QK3Di0"
      }
    },
    {
      "cell_type": "code",
      "source": [
        "#create log-transformed data for highly skewed columns\n",
        "for col in [\"DiabetesPedigreeFunction\" , 'Age' , \"Insulin\"]:   #using for loop for transformation\n",
        "  Diab[col] = np.log(Diab[col])\n",
        "# we didn't use log tranformation for pregnancies column as there is \"0\" as entries"
      ],
      "metadata": {
        "id": "wC9s7X4n8JBp"
      },
      "execution_count": null,
      "outputs": []
    },
    {
      "cell_type": "code",
      "source": [
        "# let's use square root transformation for Pregnancies curve\n",
        "Diab[\"Pregnancies\"] = np.sqrt(Diab[\"Pregnancies\"])"
      ],
      "metadata": {
        "id": "W3TrU8NJ6WDT"
      },
      "execution_count": null,
      "outputs": []
    },
    {
      "cell_type": "code",
      "source": [
        "#Let's visualise the distribution after transformation\n",
        "#used distribution plot to see the skewness of curves\n",
        "plt.figure(figsize=(20,5))\n",
        "plt.subplot(1,4,1)\n",
        "sns.distplot(Diab[\"DiabetesPedigreeFunction\"])\n",
        "plt.title(\"Distribution of DiabetesPedigreeFunction\")\n",
        "plt.subplot(1,4,2)\n",
        "sns.distplot(Diab[\"Age\"])\n",
        "plt.title(\"Distribution of Age\")\n",
        "plt.subplot(1,4,3)\n",
        "sns.distplot(Diab[\"Insulin\"])\n",
        "plt.title(\"Distribution of Insulin\")\n",
        "plt.subplot(1,4,4)\n",
        "sns.distplot(Diab[\"Pregnancies\"])\n",
        "plt.title(\"Distribution of Pregnancies\")"
      ],
      "metadata": {
        "colab": {
          "base_uri": "https://localhost:8080/",
          "height": 526
        },
        "id": "J3TELyy_2-K6",
        "outputId": "b2e4557d-e8dd-4cc5-ca46-835581e57b3d"
      },
      "execution_count": 59,
      "outputs": [
        {
          "output_type": "stream",
          "name": "stderr",
          "text": [
            "/usr/local/lib/python3.7/dist-packages/seaborn/distributions.py:2619: FutureWarning: `distplot` is a deprecated function and will be removed in a future version. Please adapt your code to use either `displot` (a figure-level function with similar flexibility) or `histplot` (an axes-level function for histograms).\n",
            "  warnings.warn(msg, FutureWarning)\n",
            "/usr/local/lib/python3.7/dist-packages/seaborn/distributions.py:2619: FutureWarning: `distplot` is a deprecated function and will be removed in a future version. Please adapt your code to use either `displot` (a figure-level function with similar flexibility) or `histplot` (an axes-level function for histograms).\n",
            "  warnings.warn(msg, FutureWarning)\n",
            "/usr/local/lib/python3.7/dist-packages/seaborn/distributions.py:2619: FutureWarning: `distplot` is a deprecated function and will be removed in a future version. Please adapt your code to use either `displot` (a figure-level function with similar flexibility) or `histplot` (an axes-level function for histograms).\n",
            "  warnings.warn(msg, FutureWarning)\n",
            "/usr/local/lib/python3.7/dist-packages/seaborn/distributions.py:2619: FutureWarning: `distplot` is a deprecated function and will be removed in a future version. Please adapt your code to use either `displot` (a figure-level function with similar flexibility) or `histplot` (an axes-level function for histograms).\n",
            "  warnings.warn(msg, FutureWarning)\n"
          ]
        },
        {
          "output_type": "execute_result",
          "data": {
            "text/plain": [
              "Text(0.5, 1.0, 'Distribution of Pregnancies')"
            ]
          },
          "metadata": {},
          "execution_count": 59
        },
        {
          "output_type": "display_data",
          "data": {
            "text/plain": [
              "<Figure size 1440x360 with 4 Axes>"
            ],
            "image/png": "[encoded data removed]"
          },
          "metadata": {
            "needs_background": "light"
          }
        }
      ]
    },
    {
      "cell_type": "code",
      "source": [
        "Diab.agg([\"skew\"]).transpose()\n",
        "# USed agg function to calculate skewness and create a array. Then used transpose function to convert the row to column"
      ],
      "metadata": {
        "colab": {
          "base_uri": "https://localhost:8080/",
          "height": 332
        },
        "id": "AEtx39Tm42BD",
        "outputId": "99b9ec98-f4d4-4491-8b2f-fc8e3cecc2a8"
      },
      "execution_count": null,
      "outputs": [
        {
          "output_type": "execute_result",
          "data": {
            "text/plain": [
              "                              skew\n",
              "Pregnancies               0.065225\n",
              "Glucose                   0.517850\n",
              "BloodPressure            -0.087516\n",
              "SkinThickness             0.209311\n",
              "Insulin                  -0.199204\n",
              "BMI                       0.446753\n",
              "DiabetesPedigreeFunction -0.253765\n",
              "Age                       0.814061\n",
              "Outcome                   0.717990"
            ],
            "text/html": [
              "\n",
              "  <div id=\"df-2c33c5d2-d318-43b8-9b7c-32dfde41aefe\">\n",
              "    <div class=\"colab-df-container\">\n",
              "      <div>\n",
              "<style scoped>\n",
              "    .dataframe tbody tr th:only-of-type {\n",
              "        vertical-align: middle;\n",
              "    }\n",
              "\n",
              "    .dataframe tbody tr th {\n",
              "        vertical-align: top;\n",
              "    }\n",
              "\n",
              "    .dataframe thead th {\n",
              "        text-align: right;\n",
              "    }\n",
              "</style>\n",
              "<table border=\"1\" class=\"dataframe\">\n",
              "  <thead>\n",
              "    <tr style=\"text-align: right;\">\n",
              "      <th></th>\n",
              "      <th>skew</th>\n",
              "    </tr>\n",
              "  </thead>\n",
              "  <tbody>\n",
              "    <tr>\n",
              "      <th>Pregnancies</th>\n",
              "      <td>0.065225</td>\n",
              "    </tr>\n",
              "    <tr>\n",
              "      <th>Glucose</th>\n",
              "      <td>0.517850</td>\n",
              "    </tr>\n",
              "    <tr>\n",
              "      <th>BloodPressure</th>\n",
              "      <td>-0.087516</td>\n",
              "    </tr>\n",
              "    <tr>\n",
              "      <th>SkinThickness</th>\n",
              "      <td>0.209311</td>\n",
              "    </tr>\n",
              "    <tr>\n",
              "      <th>Insulin</th>\n",
              "      <td>-0.199204</td>\n",
              "    </tr>\n",
              "    <tr>\n",
              "      <th>BMI</th>\n",
              "      <td>0.446753</td>\n",
              "    </tr>\n",
              "    <tr>\n",
              "      <th>DiabetesPedigreeFunction</th>\n",
              "      <td>-0.253765</td>\n",
              "    </tr>\n",
              "    <tr>\n",
              "      <th>Age</th>\n",
              "      <td>0.814061</td>\n",
              "    </tr>\n",
              "    <tr>\n",
              "      <th>Outcome</th>\n",
              "      <td>0.717990</td>\n",
              "    </tr>\n",
              "  </tbody>\n",
              "</table>\n",
              "</div>\n",
              "      <button class=\"colab-df-convert\" onclick=\"convertToInteractive('df-2c33c5d2-d318-43b8-9b7c-32dfde41aefe')\"\n",
              "              title=\"Convert this dataframe to an interactive table.\"\n",
              "              style=\"display:none;\">\n",
              "        \n",
              "  <svg xmlns=\"http://www.w3.org/2000/svg\" height=\"24px\"viewBox=\"0 0 24 24\"\n",
              "       width=\"24px\">\n",
              "    <path d=\"M0 0h24v24H0V0z\" fill=\"none\"/>\n",
              "    <path d=\"M18.56 5.44l.94 2.06.94-2.06 2.06-.94-2.06-.94-.94-2.06-.94 2.06-2.06.94zm-11 1L8.5 8.5l.94-2.06 2.06-.94-2.06-.94L8.5 2.5l-.94 2.06-2.06.94zm10 10l.94 2.06.94-2.06 2.06-.94-2.06-.94-.94-2.06-.94 2.06-2.06.94z\"/><path d=\"M17.41 7.96l-1.37-1.37c-.4-.4-.92-.59-1.43-.59-.52 0-1.04.2-1.43.59L10.3 9.45l-7.72 7.72c-.78.78-.78 2.05 0 2.83L4 21.41c.39.39.9.59 1.41.59.51 0 1.02-.2 1.41-.59l7.78-7.78 2.81-2.81c.8-.78.8-2.07 0-2.86zM5.41 20L4 18.59l7.72-7.72 1.47 1.35L5.41 20z\"/>\n",
              "  </svg>\n",
              "      </button>\n",
              "      \n",
              "  <style>\n",
              "    .colab-df-container {\n",
              "      display:flex;\n",
              "      flex-wrap:wrap;\n",
              "      gap: 12px;\n",
              "    }\n",
              "\n",
              "    .colab-df-convert {\n",
              "      background-color: #E8F0FE;\n",
              "      border: none;\n",
              "      border-radius: 50%;\n",
              "      cursor: pointer;\n",
              "      display: none;\n",
              "      fill: #1967D2;\n",
              "      height: 32px;\n",
              "      padding: 0 0 0 0;\n",
              "      width: 32px;\n",
              "    }\n",
              "\n",
              "    .colab-df-convert:hover {\n",
              "      background-color: #E2EBFA;\n",
              "      box-shadow: 0px 1px 2px rgba(60, 64, 67, 0.3), 0px 1px 3px 1px rgba(60, 64, 67, 0.15);\n",
              "      fill: #174EA6;\n",
              "    }\n",
              "\n",
              "    [theme=dark] .colab-df-convert {\n",
              "      background-color: #3B4455;\n",
              "      fill: #D2E3FC;\n",
              "    }\n",
              "\n",
              "    [theme=dark] .colab-df-convert:hover {\n",
              "      background-color: #434B5C;\n",
              "      box-shadow: 0px 1px 3px 1px rgba(0, 0, 0, 0.15);\n",
              "      filter: drop-shadow(0px 1px 2px rgba(0, 0, 0, 0.3));\n",
              "      fill: #FFFFFF;\n",
              "    }\n",
              "  </style>\n",
              "\n",
              "      <script>\n",
              "        const buttonEl =\n",
              "          document.querySelector('#df-2c33c5d2-d318-43b8-9b7c-32dfde41aefe button.colab-df-convert');\n",
              "        buttonEl.style.display =\n",
              "          google.colab.kernel.accessAllowed ? 'block' : 'none';\n",
              "\n",
              "        async function convertToInteractive(key) {\n",
              "          const element = document.querySelector('#df-2c33c5d2-d318-43b8-9b7c-32dfde41aefe');\n",
              "          const dataTable =\n",
              "            await google.colab.kernel.invokeFunction('convertToInteractive',\n",
              "                                                     [key], {});\n",
              "          if (!dataTable) return;\n",
              "\n",
              "          const docLinkHtml = 'Like what you see? Visit the ' +\n",
              "            '<a target=\"_blank\" href=https://colab.research.google.com/notebooks/data_table.ipynb>data table notebook</a>'\n",
              "            + ' to learn more about interactive tables.';\n",
              "          element.innerHTML = '';\n",
              "          dataTable['output_type'] = 'display_data';\n",
              "          await google.colab.output.renderOutput(dataTable, element);\n",
              "          const docLink = document.createElement('div');\n",
              "          docLink.innerHTML = docLinkHtml;\n",
              "          element.appendChild(docLink);\n",
              "        }\n",
              "      </script>\n",
              "    </div>\n",
              "  </div>\n",
              "  "
            ]
          },
          "metadata": {},
          "execution_count": 40
        }
      ]
    },
    {
      "cell_type": "markdown",
      "source": [
        "###We used Log-transformation for Diabetes Pedigree Function ,Age and Insulin data and Square root transformation for pregnancies data.\n",
        "\n",
        "###After perfomomg the transformation as we can see the distribution plot as well as skewness values, \n",
        "\n",
        "###1. Pregnancies data is normaly distributed.\n",
        "\n",
        "###2. Diabetes Pedigree Function data is also normaly dictributed.\n",
        "\n",
        "###3. Age data is still moderately positively skewed.\n",
        "\n",
        "###4. Insulin data became Normaly distributed.\n"
      ],
      "metadata": {
        "id": "dNizAxIqD__V"
      }
    }
  ]
}